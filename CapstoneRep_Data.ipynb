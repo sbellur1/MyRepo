{
 "cells": [
  {
   "cell_type": "markdown",
   "metadata": {},
   "source": [
    "## **Data**\n",
    "\n",
    "The basic data needed to address the business problem contains names of places to explore, zip codes/addresses, latitude & longitude.\n",
    "\n",
    "For this project, assumptions were made that the data will pertain to a specific city of Toronto, province of Ontario, in the country of Canada.\n",
    "\n",
    "The basic data is available on 2 different web-sites, and will have to be combined :\n",
    "\n",
    "   [PostalCodesOfCanada](https://en.wikipedia.org/wiki/List_of_postal_codes_of_Canada:_M)\n",
    "        - to retrieve names of places and its postal codes    \n",
    "   [Latitude/Longitude](http://cocl.us/Geospatial_data)\n",
    "        - to retrieve latitude and longitude for each postal code\n",
    "     \n",
    "* Additional data below will be retrieved from Foursquare, a location data provider :  \n",
    "    * Category of venue ( place known for) Nature, Music, Museum, Buildings, Parks, Stadiums, e.t.c  \n",
    "    * Optional details such as whether it is open to public, Reviews, Ratings, e.t.c\n",
    "    \n",
    "\n",
    "### Preparing Data\n",
    "\n",
    "The basic data is downloaded, cleaned & merged to create a data set with place, zip code, latitude & longitude.\n",
    "\n",
    "The latitude / longitude of a location feeds into Foursquare API.\n",
    "\n",
    "The API will output a list of venues/categories for each location, along with details.\n",
    "\n",
    "This data is then analyzed further to determine how to solve the problem."
   ]
  },
  {
   "cell_type": "code",
   "execution_count": null,
   "metadata": {},
   "outputs": [],
   "source": []
  }
 ],
 "metadata": {
  "kernelspec": {
   "display_name": "Python",
   "language": "python",
   "name": "conda-env-python-py"
  },
  "language_info": {
   "codemirror_mode": {
    "name": "ipython",
    "version": 3
   },
   "file_extension": ".py",
   "mimetype": "text/x-python",
   "name": "python",
   "nbconvert_exporter": "python",
   "pygments_lexer": "ipython3",
   "version": "3.6.10"
  }
 },
 "nbformat": 4,
 "nbformat_minor": 4
}
