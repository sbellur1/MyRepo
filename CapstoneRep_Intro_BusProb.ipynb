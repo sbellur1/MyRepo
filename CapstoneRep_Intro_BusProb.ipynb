{
 "cells": [
  {
   "cell_type": "markdown",
   "metadata": {},
   "source": [
    "## **Introduction & Business Problem**\n",
    "\n",
    "Travel to various locations can be for pleasure, learning or both. Often, identifying the destination to visit with points-of-interest of one’s choice can be a challenge & time-consuming. Especially so, if locations are not popular, well-known or visited often. These locations could be local, with less facilities/conveniences, nevertheless most suitable for the person looking for locations for a specific activity or a purpose.\n",
    "\n",
    "It would be helpful to narrow down areas, places, points-of-interest to customer specifications, given minimal information such as a town, city or a state.\n",
    "\n",
    "## **Audience for the results of the project**\n",
    "\n",
    "Businesses like travel agencies, private tours & non-business related entities such as nature study groups, photography clubs, schools or individuals looking to explore various destinations for pleasure, hobby, photography, outdoor activities, nature study, e.t.c would leverage the results of this project.\n",
    "The output of this project can also be customized for various other purposes to cater to customer’s needs."
   ]
  },
  {
   "cell_type": "code",
   "execution_count": null,
   "metadata": {},
   "outputs": [],
   "source": []
  },
  {
   "cell_type": "code",
   "execution_count": null,
   "metadata": {},
   "outputs": [],
   "source": []
  }
 ],
 "metadata": {
  "kernelspec": {
   "display_name": "Python",
   "language": "python",
   "name": "conda-env-python-py"
  },
  "language_info": {
   "codemirror_mode": {
    "name": "ipython",
    "version": 3
   },
   "file_extension": ".py",
   "mimetype": "text/x-python",
   "name": "python",
   "nbconvert_exporter": "python",
   "pygments_lexer": "ipython3",
   "version": "3.6.10"
  }
 },
 "nbformat": 4,
 "nbformat_minor": 4
}
